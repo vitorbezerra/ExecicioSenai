{
 "cells": [
  {
   "cell_type": "code",
   "execution_count": null,
   "metadata": {},
   "outputs": [],
   "source": [
    "import pandas as pd\n",
    "from opencage.geocoder import OpenCageGeocode\n",
    "import json\n",
    "from concurrent.futures import ThreadPoolExecutor\n",
    "from tqdm import tqdm\n",
    "\n",
    "class Preparador:\n",
    "    def __init__(self, dataset):\n",
    "        self.df = pd.read_csv(dataset, sep='\\n', delimiter=';')\n",
    "        self.fields = list(self.df)\n",
    "        self.n_lines = len(self.df)\n",
    "\n",
    "    # Para cada coluna identique a quantidade de linhas com dados faltantes (em alguns casos,\n",
    "    # o dado faltante é uma string vazia, em outros casos é uma string contendo algum valor do tipo:\n",
    "    # \"sem informação\"). Faça um método que retorna a média de dados faltantes por coluna\n",
    "    def search_nan(self):\n",
    "        count = {}\n",
    "        for field in self.fields:\n",
    "            count[field] = sum(\n",
    "                [1 if value == \"\" or value == \"Sem Informações\" else 0 for value in self.df[field]]) / self.n_lines\n",
    "        return count\n",
    "\n",
    "    # Para cada item identifique até qual nível taxônomico a ocorrência foi identificada.\n",
    "\n",
    "    def n_tax(self):\n",
    "        count = {}\n",
    "        for i in range(self.n_lines):\n",
    "            count[i] = \"\"\n",
    "            for field in reversed(['Reino', 'Filo', 'Classe', 'Ordem', 'Familia', 'Genero', 'Especie']):\n",
    "                if self.df.loc[i,field] != \"Sem Informações\" and self.df.loc[i,field] != \"\":\n",
    "                    count[i] = field\n",
    "                    break\n",
    "        return count\n",
    "\n",
    "    # Monte filtros de ocorrências por estados, nome de espécie (nome exato ou parte do nome)\n",
    "    #  e categoria de ameaça, e outros filtros que julgar relevante.\n",
    "\n",
    "    def filter(self):\n",
    "        pass\n",
    "\n",
    "    # Crie uma funcionalidade para avaliar se a informação de longitude e latitude corresponde\n",
    "    #  a informação presente na localização\n",
    "\n",
    "    def verify_lat_long(self, city, lat, long):\n",
    "        key = '65b25c705a5349ad99c824ca809363b7'\n",
    "        geocoder = OpenCageGeocode(key)\n",
    "        results = geocoder.reverse_geocode(lat, long)\n",
    "        try:\n",
    "            r_city = results[0]['components']['city']\n",
    "        except Exception as identifier:\n",
    "            try:\n",
    "                r_city = results[0]['components']['island']\n",
    "            except Exception as identifier:\n",
    "                r_city = \"\"\n",
    "        self.pbar.update(1)\n",
    "        return r_city == city\n",
    "\n",
    "    def call(self):\n",
    "        futures = {}\n",
    "        count = {}\n",
    "        self.pbar = tqdm(total=len(self.df))\n",
    "        with ThreadPoolExecutor(max_workers=100) as executor:\n",
    "            for i, (lat, long, city) in enumerate(zip(self.df['Latitude'], self.df['Longitude'], self.df['Municipio'])):\n",
    "                futures[i] = executor.submit(self.verify_lat_long, city, lat, long)\n",
    "\n",
    "        for i, f in futures.items():\n",
    "            count[i] = f.result()\n",
    "        return count\n"
   ]
  },
  {
   "cell_type": "code",
   "execution_count": null,
   "metadata": {},
   "outputs": [],
   "source": [
    "! pip install ipyleaflet"
   ]
  },
  {
   "cell_type": "code",
   "execution_count": 8,
   "metadata": {},
   "outputs": [],
   "source": [
    "from ipyleaflet import *\n",
    "from opencage.geocoder import OpenCageGeocode\n",
    "key = '65b25c705a5349ad99c824ca809363b7'\n",
    "geocoder = OpenCageGeocode(key)\n",
    "results = geocoder.geocode(u'Brussels, Belgium')\n",
    "center = (results[0]['geometry']['lat'], results[0]['geometry']['lng'])\n",
    "results2 = geocoder.geocode(u'Lisbon, Portugal')\n",
    "center2 = (results2[0]['geometry']['lat'], results2[0]['geometry']['lng'])"
   ]
  },
  {
   "cell_type": "code",
   "execution_count": 9,
   "metadata": {},
   "outputs": [
    {
     "data": {
      "application/vnd.jupyter.widget-view+json": {
       "model_id": "54e7350d44f14385be4382473db2d2c7",
       "version_major": 2,
       "version_minor": 0
      },
      "text/plain": [
       "Map(basemap={'url': 'https://{s}.tile.openstreetmap.org/{z}/{x}/{y}.png', 'max_zoom': 19, 'attribution': 'Map …"
      ]
     },
     "metadata": {},
     "output_type": "display_data"
    }
   ],
   "source": [
    "map = Map(center=center, zoom=6)\n",
    "marker = Marker(location=center, draggable=False)\n",
    "marker2 = Marker(location=center2, draggable=False)\n",
    "map.add_layer(marker)\n",
    "map.add_layer(marker2)\n",
    "map"
   ]
  },
  {
   "cell_type": "code",
   "execution_count": null,
   "metadata": {},
   "outputs": [],
   "source": []
  }
 ],
 "metadata": {
  "kernelspec": {
   "display_name": "Python [conda env:amb1] *",
   "language": "python",
   "name": "conda-env-amb1-py"
  },
  "language_info": {
   "codemirror_mode": {
    "name": "ipython",
    "version": 3
   },
   "file_extension": ".py",
   "mimetype": "text/x-python",
   "name": "python",
   "nbconvert_exporter": "python",
   "pygments_lexer": "ipython3",
   "version": "3.7.4"
  }
 },
 "nbformat": 4,
 "nbformat_minor": 4
}
