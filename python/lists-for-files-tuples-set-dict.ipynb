{
 "cells": [
  {
   "cell_type": "markdown",
   "metadata": {},
   "source": [
    "# Working with Data\n",
    "\n",
    "## Lists\n",
    "\n",
    "**problem 1:** What will be the output of the following program?\n",
    "\n",
    "**A**:\n",
    "\n",
    "[0, 1, [3]]\n",
    "\n",
    "[0, 1, [3, 4]]\n",
    "\n",
    "[0, 1, 2]"
   ]
  },
  {
   "cell_type": "code",
   "execution_count": 2,
   "metadata": {},
   "outputs": [
    {
     "name": "stdout",
     "output_type": "stream",
     "text": [
      "[0, 1, [3]]\n",
      "[0, 1, [3, 4]]\n",
      "[0, 1, 2]\n"
     ]
    }
   ],
   "source": [
    "x = [0, 1, [2]]\n",
    "x[2][0] = 3\n",
    "print(x)\n",
    "x[2].append(4)\n",
    "print(x)\n",
    "x[2] = 2\n",
    "print(x)"
   ]
  },
  {
   "cell_type": "markdown",
   "metadata": {},
   "source": [
    "## The for Statement\n",
    "\n",
    "**problem 2:** Python has a built-in function sum to find sum of all elements of a list. Provide an implementation for sum."
   ]
  },
  {
   "cell_type": "code",
   "execution_count": 4,
   "metadata": {},
   "outputs": [
    {
     "name": "stdout",
     "output_type": "stream",
     "text": [
      "6\n",
      "6\n"
     ]
    }
   ],
   "source": [
    "def my_sum(l):\n",
    "    s = 0\n",
    "    for i in l:\n",
    "        s += i\n",
    "    return s\n",
    "\n",
    "l = [1,2,3]\n",
    "\n",
    "print(sum(l))\n",
    "print(my_sum(l))"
   ]
  },
  {
   "cell_type": "markdown",
   "metadata": {},
   "source": [
    "**problem 3:** What happens when the above sum function is called with a list of strings? Can you make your sum function work for a list of strings as well."
   ]
  },
  {
   "cell_type": "code",
   "execution_count": 5,
   "metadata": {},
   "outputs": [
    {
     "ename": "TypeError",
     "evalue": "unsupported operand type(s) for +: 'int' and 'str'",
     "output_type": "error",
     "traceback": [
      "\u001b[0;31m---------------------------------------------------------------------------\u001b[0m",
      "\u001b[0;31mTypeError\u001b[0m                                 Traceback (most recent call last)",
      "\u001b[0;32m<ipython-input-5-eb9e059b20b6>\u001b[0m in \u001b[0;36m<module>\u001b[0;34m\u001b[0m\n\u001b[0;32m----> 1\u001b[0;31m \u001b[0msum\u001b[0m\u001b[0;34m(\u001b[0m\u001b[0;34m[\u001b[0m\u001b[0;34m\"hello\"\u001b[0m\u001b[0;34m,\u001b[0m \u001b[0;34m\"world\"\u001b[0m\u001b[0;34m]\u001b[0m\u001b[0;34m)\u001b[0m\u001b[0;34m\u001b[0m\u001b[0;34m\u001b[0m\u001b[0m\n\u001b[0m",
      "\u001b[0;31mTypeError\u001b[0m: unsupported operand type(s) for +: 'int' and 'str'"
     ]
    }
   ],
   "source": [
    "sum([\"hello\", \"world\"])"
   ]
  },
  {
   "cell_type": "code",
   "execution_count": 6,
   "metadata": {},
   "outputs": [
    {
     "name": "stdout",
     "output_type": "stream",
     "text": [
      "helloworld\n"
     ]
    }
   ],
   "source": [
    "def my_sum(l):\n",
    "    s = \"\"\n",
    "    for i in l:\n",
    "        s += i\n",
    "    return s\n",
    "\n",
    "l = [\"hello\", \"world\"]\n",
    "\n",
    "print(my_sum(l))"
   ]
  },
  {
   "cell_type": "markdown",
   "metadata": {},
   "source": [
    "**problem 4:** Implement a function product, to compute product of a list of numbers."
   ]
  },
  {
   "cell_type": "code",
   "execution_count": 9,
   "metadata": {},
   "outputs": [
    {
     "name": "stdout",
     "output_type": "stream",
     "text": [
      "6\n",
      "120\n"
     ]
    }
   ],
   "source": [
    "def product(l):\n",
    "    p = 1\n",
    "    for i in l:\n",
    "        p *= i\n",
    "    return p\n",
    "print(product([1,2,3]))\n",
    "print(product([1,2,3,4,5]))"
   ]
  },
  {
   "cell_type": "markdown",
   "metadata": {},
   "source": [
    "**problem 5:** Write a function factorial to compute factorial of a number. Can you use the product function defined in the previous example to compute factorial?"
   ]
  },
  {
   "cell_type": "code",
   "execution_count": 11,
   "metadata": {},
   "outputs": [
    {
     "name": "stdout",
     "output_type": "stream",
     "text": [
      "24\n",
      "362880\n"
     ]
    }
   ],
   "source": [
    "def factorial(limit):\n",
    "    p = 1\n",
    "    for i in range(1,limit+1):\n",
    "        p *= i\n",
    "    return p\n",
    "\n",
    "print(factorial(4))\n",
    "print(factorial(9))"
   ]
  },
  {
   "cell_type": "markdown",
   "metadata": {},
   "source": [
    "**problem 6:** Write a function reverse to reverse a list. Can you do this without using list slicing?"
   ]
  },
  {
   "cell_type": "code",
   "execution_count": 13,
   "metadata": {},
   "outputs": [
    {
     "name": "stdout",
     "output_type": "stream",
     "text": [
      "[4, 3, 2, 1]\n",
      "[1, 2, 3, 4]\n"
     ]
    }
   ],
   "source": [
    "def reverse(l):\n",
    "    new_l = []\n",
    "    for i in range(len(l)):\n",
    "        new_l.append(l.pop(-1))\n",
    "    return new_l\n",
    "\n",
    "print(reverse([1, 2, 3, 4]))\n",
    "print(reverse(reverse([1, 2, 3, 4])))"
   ]
  },
  {
   "cell_type": "code",
   "execution_count": 14,
   "metadata": {},
   "outputs": [
    {
     "name": "stdout",
     "output_type": "stream",
     "text": [
      "[4, 3, 2, 1]\n",
      "[1, 2, 3, 4]\n"
     ]
    }
   ],
   "source": [
    "def reverse(l):\n",
    "    new_l = []\n",
    "    for i in reversed(l):\n",
    "        new_l.append(i)\n",
    "    return new_l\n",
    "\n",
    "print(reverse([1, 2, 3, 4]))\n",
    "print(reverse(reverse([1, 2, 3, 4])))"
   ]
  },
  {
   "cell_type": "markdown",
   "metadata": {},
   "source": [
    "**problem 7:** Python has built-in functions min and max to compute minimum and maximum of a given list. Provide an implementation for these functions. What happens when you call your min and max functions with a list of strings?"
   ]
  },
  {
   "cell_type": "code",
   "execution_count": 21,
   "metadata": {},
   "outputs": [
    {
     "name": "stdout",
     "output_type": "stream",
     "text": [
      "2\n",
      "1\n"
     ]
    }
   ],
   "source": [
    "def my_max(l):\n",
    "    m_a_x = l[0]\n",
    "    for i in l:\n",
    "        if i > m_a_x:\n",
    "            m_a_x = i\n",
    "    return m_a_x\n",
    "\n",
    "def my_min(l):\n",
    "    m_i_n = l[0]\n",
    "    for i in l:\n",
    "        if i < m_i_n:\n",
    "            m_i_n = i\n",
    "    return m_i_n\n",
    "print(my_max([1,2]))\n",
    "print(my_min([1,2]))"
   ]
  },
  {
   "cell_type": "code",
   "execution_count": 16,
   "metadata": {},
   "outputs": [
    {
     "data": {
      "text/plain": [
       "'world'"
      ]
     },
     "execution_count": 16,
     "metadata": {},
     "output_type": "execute_result"
    }
   ],
   "source": [
    "max([\"hello\", \"world\"])"
   ]
  },
  {
   "cell_type": "code",
   "execution_count": 17,
   "metadata": {},
   "outputs": [
    {
     "data": {
      "text/plain": [
       "'hello'"
      ]
     },
     "execution_count": 17,
     "metadata": {},
     "output_type": "execute_result"
    }
   ],
   "source": [
    "min([\"hello\", \"world\"])"
   ]
  },
  {
   "cell_type": "markdown",
   "metadata": {},
   "source": [
    "**problem 8:** Cumulative sum of a list [a, b, c, ...] is defined as [a, a+b, a+b+c, ...]. Write a function cumulative_sum to compute cumulative sum of a list. Does your implementation work for a list of strings?"
   ]
  },
  {
   "cell_type": "code",
   "execution_count": 28,
   "metadata": {},
   "outputs": [
    {
     "name": "stdout",
     "output_type": "stream",
     "text": [
      "[1, 3, 6, 10]\n",
      "[4, 7, 9, 10]\n",
      "['hello', 'helloworld', 'helloworldpython']\n"
     ]
    }
   ],
   "source": [
    "def cumulative_sum(l):\n",
    "    s = []\n",
    "    for i in range(len(l)):\n",
    "        if i == 0:\n",
    "            s.append(l[i])\n",
    "        else:\n",
    "            aux_sum = None\n",
    "            for j in range(i):\n",
    "                if aux_sum == None:\n",
    "                    aux_sum = l[j]\n",
    "                else:\n",
    "                    aux_sum += l[j]\n",
    "            aux_sum += l[i]\n",
    "            s.append(aux_sum)\n",
    "    return s\n",
    "\n",
    "print(cumulative_sum([1, 2, 3, 4]))\n",
    "print(cumulative_sum([4, 3, 2, 1]))\n",
    "print(cumulative_sum([\"hello\", \"world\", \"python\"]))"
   ]
  },
  {
   "cell_type": "markdown",
   "metadata": {},
   "source": [
    "**problem 9:** Write a function cumulative_product to compute cumulative product of a list of numbers."
   ]
  },
  {
   "cell_type": "code",
   "execution_count": 30,
   "metadata": {},
   "outputs": [
    {
     "name": "stdout",
     "output_type": "stream",
     "text": [
      "[1, 2, 6, 24]\n",
      "[4, 12, 24, 24]\n"
     ]
    }
   ],
   "source": [
    "def cumulative_productive(l):\n",
    "    s = []\n",
    "    for i in range(len(l)):\n",
    "        if i == 0:\n",
    "            s.append(l[i])\n",
    "        else:\n",
    "            aux_sum = None\n",
    "            for j in range(i):\n",
    "                if aux_sum == None:\n",
    "                    aux_sum = l[j]\n",
    "                else:\n",
    "                    aux_sum *= l[j]\n",
    "            aux_sum *= l[i]\n",
    "            s.append(aux_sum)\n",
    "    return s\n",
    "\n",
    "print(cumulative_productive([1, 2, 3, 4]))\n",
    "print(cumulative_productive([4, 3, 2, 1]))"
   ]
  },
  {
   "cell_type": "markdown",
   "metadata": {},
   "source": [
    "**problem 10:** Write a function unique to find all the unique elements of a list."
   ]
  },
  {
   "cell_type": "code",
   "execution_count": 32,
   "metadata": {},
   "outputs": [
    {
     "name": "stdout",
     "output_type": "stream",
     "text": [
      "[1, 2, 3, 5]\n"
     ]
    }
   ],
   "source": [
    "def unique(l):\n",
    "    return list(set(l))\n",
    "\n",
    "print(unique([1, 2, 1, 3, 2, 5]))"
   ]
  },
  {
   "cell_type": "markdown",
   "metadata": {},
   "source": [
    "**problem 11:** Write a function dups to find all duplicates in the list."
   ]
  },
  {
   "cell_type": "code",
   "execution_count": 38,
   "metadata": {},
   "outputs": [
    {
     "name": "stdout",
     "output_type": "stream",
     "text": [
      "[1, 2]\n"
     ]
    }
   ],
   "source": [
    "import collections\n",
    "def dups(l):\n",
    "    return [item for item, count in collections.Counter(l).items() if count > 1]\n",
    "\n",
    "print(dups([1, 2, 1, 3, 2, 5]))"
   ]
  },
  {
   "cell_type": "code",
   "execution_count": null,
   "metadata": {},
   "outputs": [],
   "source": []
  }
 ],
 "metadata": {
  "kernelspec": {
   "display_name": "Python [conda env:amb1] *",
   "language": "python",
   "name": "conda-env-amb1-py"
  },
  "language_info": {
   "codemirror_mode": {
    "name": "ipython",
    "version": 3
   },
   "file_extension": ".py",
   "mimetype": "text/x-python",
   "name": "python",
   "nbconvert_exporter": "python",
   "pygments_lexer": "ipython3",
   "version": "3.7.4"
  }
 },
 "nbformat": 4,
 "nbformat_minor": 2
}
