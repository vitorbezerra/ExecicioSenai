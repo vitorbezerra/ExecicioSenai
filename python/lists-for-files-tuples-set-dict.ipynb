{
 "cells": [
  {
   "cell_type": "markdown",
   "metadata": {},
   "source": [
    "# Working with Data\n",
    "\n",
    "## Lists\n",
    "\n",
    "**problem 1:** What will be the output of the following program?\n",
    "\n",
    "**A**:\n",
    "\n",
    "[0, 1, [3]]\n",
    "\n",
    "[0, 1, [3, 4]]\n",
    "\n",
    "[0, 1, 2]"
   ]
  },
  {
   "cell_type": "code",
   "execution_count": 2,
   "metadata": {},
   "outputs": [
    {
     "name": "stdout",
     "output_type": "stream",
     "text": [
      "[0, 1, [3]]\n",
      "[0, 1, [3, 4]]\n",
      "[0, 1, 2]\n"
     ]
    }
   ],
   "source": [
    "x = [0, 1, [2]]\n",
    "x[2][0] = 3\n",
    "print(x)\n",
    "x[2].append(4)\n",
    "print(x)\n",
    "x[2] = 2\n",
    "print(x)"
   ]
  },
  {
   "cell_type": "markdown",
   "metadata": {},
   "source": [
    "## The for Statement\n",
    "\n",
    "**problem 2:** Python has a built-in function sum to find sum of all elements of a list. Provide an implementation for sum."
   ]
  },
  {
   "cell_type": "code",
   "execution_count": 4,
   "metadata": {},
   "outputs": [
    {
     "name": "stdout",
     "output_type": "stream",
     "text": [
      "6\n",
      "6\n"
     ]
    }
   ],
   "source": [
    "def my_sum(l):\n",
    "    s = 0\n",
    "    for i in l:\n",
    "        s += i\n",
    "    return s\n",
    "\n",
    "l = [1,2,3]\n",
    "\n",
    "print(sum(l))\n",
    "print(my_sum(l))"
   ]
  },
  {
   "cell_type": "markdown",
   "metadata": {},
   "source": [
    "**problem 3:** What happens when the above sum function is called with a list of strings? Can you make your sum function work for a list of strings as well."
   ]
  },
  {
   "cell_type": "code",
   "execution_count": 5,
   "metadata": {},
   "outputs": [
    {
     "ename": "TypeError",
     "evalue": "unsupported operand type(s) for +: 'int' and 'str'",
     "output_type": "error",
     "traceback": [
      "\u001b[0;31m---------------------------------------------------------------------------\u001b[0m",
      "\u001b[0;31mTypeError\u001b[0m                                 Traceback (most recent call last)",
      "\u001b[0;32m<ipython-input-5-eb9e059b20b6>\u001b[0m in \u001b[0;36m<module>\u001b[0;34m\u001b[0m\n\u001b[0;32m----> 1\u001b[0;31m \u001b[0msum\u001b[0m\u001b[0;34m(\u001b[0m\u001b[0;34m[\u001b[0m\u001b[0;34m\"hello\"\u001b[0m\u001b[0;34m,\u001b[0m \u001b[0;34m\"world\"\u001b[0m\u001b[0;34m]\u001b[0m\u001b[0;34m)\u001b[0m\u001b[0;34m\u001b[0m\u001b[0;34m\u001b[0m\u001b[0m\n\u001b[0m",
      "\u001b[0;31mTypeError\u001b[0m: unsupported operand type(s) for +: 'int' and 'str'"
     ]
    }
   ],
   "source": [
    "sum([\"hello\", \"world\"])"
   ]
  },
  {
   "cell_type": "code",
   "execution_count": 6,
   "metadata": {},
   "outputs": [
    {
     "name": "stdout",
     "output_type": "stream",
     "text": [
      "helloworld\n"
     ]
    }
   ],
   "source": [
    "def my_sum(l):\n",
    "    s = \"\"\n",
    "    for i in l:\n",
    "        s += i\n",
    "    return s\n",
    "\n",
    "l = [\"hello\", \"world\"]\n",
    "\n",
    "print(my_sum(l))"
   ]
  },
  {
   "cell_type": "markdown",
   "metadata": {},
   "source": [
    "**problem 4:** Implement a function product, to compute product of a list of numbers."
   ]
  },
  {
   "cell_type": "code",
   "execution_count": 9,
   "metadata": {},
   "outputs": [
    {
     "name": "stdout",
     "output_type": "stream",
     "text": [
      "6\n",
      "120\n"
     ]
    }
   ],
   "source": [
    "def product(l):\n",
    "    p = 1\n",
    "    for i in l:\n",
    "        p *= i\n",
    "    return p\n",
    "print(product([1,2,3]))\n",
    "print(product([1,2,3,4,5]))"
   ]
  },
  {
   "cell_type": "markdown",
   "metadata": {},
   "source": [
    "**problem 5:** Write a function factorial to compute factorial of a number. Can you use the product function defined in the previous example to compute factorial?"
   ]
  },
  {
   "cell_type": "code",
   "execution_count": 11,
   "metadata": {},
   "outputs": [
    {
     "name": "stdout",
     "output_type": "stream",
     "text": [
      "24\n",
      "362880\n"
     ]
    }
   ],
   "source": [
    "def factorial(limit):\n",
    "    p = 1\n",
    "    for i in range(1,limit+1):\n",
    "        p *= i\n",
    "    return p\n",
    "\n",
    "print(factorial(4))\n",
    "print(factorial(9))"
   ]
  },
  {
   "cell_type": "markdown",
   "metadata": {},
   "source": [
    "**problem 6:** Write a function reverse to reverse a list. Can you do this without using list slicing?"
   ]
  },
  {
   "cell_type": "code",
   "execution_count": 13,
   "metadata": {},
   "outputs": [
    {
     "name": "stdout",
     "output_type": "stream",
     "text": [
      "[4, 3, 2, 1]\n",
      "[1, 2, 3, 4]\n"
     ]
    }
   ],
   "source": [
    "def reverse(l):\n",
    "    new_l = []\n",
    "    for i in range(len(l)):\n",
    "        new_l.append(l.pop(-1))\n",
    "    return new_l\n",
    "\n",
    "print(reverse([1, 2, 3, 4]))\n",
    "print(reverse(reverse([1, 2, 3, 4])))"
   ]
  },
  {
   "cell_type": "code",
   "execution_count": 14,
   "metadata": {},
   "outputs": [
    {
     "name": "stdout",
     "output_type": "stream",
     "text": [
      "[4, 3, 2, 1]\n",
      "[1, 2, 3, 4]\n"
     ]
    }
   ],
   "source": [
    "def reverse(l):\n",
    "    new_l = []\n",
    "    for i in reversed(l):\n",
    "        new_l.append(i)\n",
    "    return new_l\n",
    "\n",
    "print(reverse([1, 2, 3, 4]))\n",
    "print(reverse(reverse([1, 2, 3, 4])))"
   ]
  },
  {
   "cell_type": "markdown",
   "metadata": {},
   "source": [
    "**problem 7:** Python has built-in functions min and max to compute minimum and maximum of a given list. Provide an implementation for these functions. What happens when you call your min and max functions with a list of strings?"
   ]
  },
  {
   "cell_type": "code",
   "execution_count": 21,
   "metadata": {},
   "outputs": [
    {
     "name": "stdout",
     "output_type": "stream",
     "text": [
      "2\n",
      "1\n"
     ]
    }
   ],
   "source": [
    "def my_max(l):\n",
    "    m_a_x = l[0]\n",
    "    for i in l:\n",
    "        if i > m_a_x:\n",
    "            m_a_x = i\n",
    "    return m_a_x\n",
    "\n",
    "def my_min(l):\n",
    "    m_i_n = l[0]\n",
    "    for i in l:\n",
    "        if i < m_i_n:\n",
    "            m_i_n = i\n",
    "    return m_i_n\n",
    "print(my_max([1,2]))\n",
    "print(my_min([1,2]))"
   ]
  },
  {
   "cell_type": "code",
   "execution_count": 16,
   "metadata": {},
   "outputs": [
    {
     "data": {
      "text/plain": [
       "'world'"
      ]
     },
     "execution_count": 16,
     "metadata": {},
     "output_type": "execute_result"
    }
   ],
   "source": [
    "max([\"hello\", \"world\"])"
   ]
  },
  {
   "cell_type": "code",
   "execution_count": 17,
   "metadata": {},
   "outputs": [
    {
     "data": {
      "text/plain": [
       "'hello'"
      ]
     },
     "execution_count": 17,
     "metadata": {},
     "output_type": "execute_result"
    }
   ],
   "source": [
    "min([\"hello\", \"world\"])"
   ]
  },
  {
   "cell_type": "markdown",
   "metadata": {},
   "source": [
    "**problem 8:** Cumulative sum of a list [a, b, c, ...] is defined as [a, a+b, a+b+c, ...]. Write a function cumulative_sum to compute cumulative sum of a list. Does your implementation work for a list of strings?"
   ]
  },
  {
   "cell_type": "code",
   "execution_count": 28,
   "metadata": {},
   "outputs": [
    {
     "name": "stdout",
     "output_type": "stream",
     "text": [
      "[1, 3, 6, 10]\n",
      "[4, 7, 9, 10]\n",
      "['hello', 'helloworld', 'helloworldpython']\n"
     ]
    }
   ],
   "source": [
    "def cumulative_sum(l):\n",
    "    s = []\n",
    "    for i in range(len(l)):\n",
    "        if i == 0:\n",
    "            s.append(l[i])\n",
    "        else:\n",
    "            aux_sum = None\n",
    "            for j in range(i):\n",
    "                if aux_sum == None:\n",
    "                    aux_sum = l[j]\n",
    "                else:\n",
    "                    aux_sum += l[j]\n",
    "            aux_sum += l[i]\n",
    "            s.append(aux_sum)\n",
    "    return s\n",
    "\n",
    "print(cumulative_sum([1, 2, 3, 4]))\n",
    "print(cumulative_sum([4, 3, 2, 1]))\n",
    "print(cumulative_sum([\"hello\", \"world\", \"python\"]))"
   ]
  },
  {
   "cell_type": "markdown",
   "metadata": {},
   "source": [
    "**problem 9:** Write a function cumulative_product to compute cumulative product of a list of numbers."
   ]
  },
  {
   "cell_type": "code",
   "execution_count": 30,
   "metadata": {},
   "outputs": [
    {
     "name": "stdout",
     "output_type": "stream",
     "text": [
      "[1, 2, 6, 24]\n",
      "[4, 12, 24, 24]\n"
     ]
    }
   ],
   "source": [
    "def cumulative_productive(l):\n",
    "    s = []\n",
    "    for i in range(len(l)):\n",
    "        if i == 0:\n",
    "            s.append(l[i])\n",
    "        else:\n",
    "            aux_sum = None\n",
    "            for j in range(i):\n",
    "                if aux_sum == None:\n",
    "                    aux_sum = l[j]\n",
    "                else:\n",
    "                    aux_sum *= l[j]\n",
    "            aux_sum *= l[i]\n",
    "            s.append(aux_sum)\n",
    "    return s\n",
    "\n",
    "print(cumulative_productive([1, 2, 3, 4]))\n",
    "print(cumulative_productive([4, 3, 2, 1]))"
   ]
  },
  {
   "cell_type": "markdown",
   "metadata": {},
   "source": [
    "**problem 10:** Write a function unique to find all the unique elements of a list."
   ]
  },
  {
   "cell_type": "code",
   "execution_count": 32,
   "metadata": {},
   "outputs": [
    {
     "name": "stdout",
     "output_type": "stream",
     "text": [
      "[1, 2, 3, 5]\n"
     ]
    }
   ],
   "source": [
    "def unique(l):\n",
    "    return list(set(l))\n",
    "\n",
    "print(unique([1, 2, 1, 3, 2, 5]))"
   ]
  },
  {
   "cell_type": "markdown",
   "metadata": {},
   "source": [
    "**problem 11:** Write a function dups to find all duplicates in the list."
   ]
  },
  {
   "cell_type": "code",
   "execution_count": 38,
   "metadata": {},
   "outputs": [
    {
     "name": "stdout",
     "output_type": "stream",
     "text": [
      "[1, 2]\n"
     ]
    }
   ],
   "source": [
    "import collections\n",
    "def dups(l):\n",
    "    return [item for item, count in collections.Counter(l).items() if count > 1]\n",
    "\n",
    "print(dups([1, 2, 1, 3, 2, 5]))"
   ]
  },
  {
   "cell_type": "markdown",
   "metadata": {},
   "source": [
    "**problem 12:** Write a function group(list, size) that take a list and splits into smaller lists of given size."
   ]
  },
  {
   "cell_type": "code",
   "execution_count": 6,
   "metadata": {},
   "outputs": [
    {
     "name": "stdout",
     "output_type": "stream",
     "text": [
      "[[1, 2, 3], [4, 5, 6], [7, 8, 9]]\n",
      "[[1, 2, 3, 4], [5, 6, 7, 8], [9]]\n"
     ]
    }
   ],
   "source": [
    "def group(l, size):\n",
    "    return [l[i:i+size] for i in range(0,len(l),size)]\n",
    "\n",
    "print(group([1, 2, 3, 4, 5, 6, 7, 8, 9], 3))\n",
    "print(group([1, 2, 3, 4, 5, 6, 7, 8, 9], 4))"
   ]
  },
  {
   "cell_type": "markdown",
   "metadata": {},
   "source": [
    "## Sorting Lists\n",
    "\n",
    "**problem 14:** Write a function lensort to sort a list of strings based on length."
   ]
  },
  {
   "cell_type": "code",
   "execution_count": 67,
   "metadata": {},
   "outputs": [
    {
     "name": "stdout",
     "output_type": "stream",
     "text": [
      "['c', 'perl', 'java', 'ruby', 'python', 'haskell']\n"
     ]
    }
   ],
   "source": [
    "def order_by_size(i):\n",
    "    return len(i)\n",
    "\n",
    "def lensort(l):\n",
    "    l.sort(key=order_by_size)\n",
    "    return l\n",
    "\n",
    "print(lensort(['python', 'perl', 'java', 'c', 'haskell', 'ruby']))"
   ]
  },
  {
   "cell_type": "markdown",
   "metadata": {},
   "source": [
    "\n",
    "**problem 15:** Improve the unique function written in previous problems to take an optional key function as argument and use the return value of the key function to check for uniqueness."
   ]
  },
  {
   "cell_type": "code",
   "execution_count": 13,
   "metadata": {},
   "outputs": [
    {
     "name": "stdout",
     "output_type": "stream",
     "text": [
      "['python', 'java']\n"
     ]
    }
   ],
   "source": [
    "def unique(l, key):\n",
    "    \n",
    "    return list(set([key(i) for i in l]))\n",
    "\n",
    "print(unique([\"python\", \"java\", \"Python\", \"Java\"], key=lambda s: s.lower()))\n"
   ]
  },
  {
   "cell_type": "markdown",
   "metadata": {},
   "source": [
    "## Tuples\n",
    "\n",
    "**problem 16:** Reimplement the unique function implemented in the earlier examples using sets."
   ]
  },
  {
   "cell_type": "code",
   "execution_count": 14,
   "metadata": {},
   "outputs": [
    {
     "name": "stdout",
     "output_type": "stream",
     "text": [
      "['python', 'java']\n"
     ]
    }
   ],
   "source": [
    "def unique(l, key):\n",
    "    \n",
    "    return list(set([key(i) for i in l]))\n",
    "\n",
    "print(unique([\"python\", \"java\", \"Python\", \"Java\"], key=lambda s: s.lower()))\n"
   ]
  },
  {
   "cell_type": "markdown",
   "metadata": {},
   "source": [
    "## Strings\n",
    "\n",
    "**problem 17:** Write a function extsort to sort a list of files based on extension."
   ]
  },
  {
   "cell_type": "code",
   "execution_count": 15,
   "metadata": {},
   "outputs": [
    {
     "name": "stdout",
     "output_type": "stream",
     "text": [
      "['a.c', 'x.c', 'a.py', 'b.py', 'bar.txt', 'foo.txt']\n"
     ]
    }
   ],
   "source": [
    "def take_extension(element):\n",
    "    return element.split(\".\")[-1]\n",
    "\n",
    "def extsort(l):\n",
    "    l.sort(key=take_extension)\n",
    "    return l\n",
    "\n",
    "print(extsort(['a.c', 'a.py', 'b.py', 'bar.txt', 'foo.txt', 'x.c']))"
   ]
  },
  {
   "cell_type": "markdown",
   "metadata": {},
   "source": [
    "## Working With Files\n",
    "\n",
    "**problem 18:** Write a program reverse.py to print lines of a file in reverse order."
   ]
  },
  {
   "cell_type": "code",
   "execution_count": 19,
   "metadata": {},
   "outputs": [
    {
     "name": "stdout",
     "output_type": "stream",
     "text": [
      "She sells seashells on the seashore;\r\n",
      "The shells that she sells are seashells I'm sure.\r\n",
      "So if she sells seashells on the seashore,\r\n",
      "I'm sure that the shells are seashore shells.\r\n"
     ]
    }
   ],
   "source": [
    "!cat ~/Documents/ExecicioSenai/python/she.txt"
   ]
  },
  {
   "cell_type": "code",
   "execution_count": 22,
   "metadata": {},
   "outputs": [
    {
     "name": "stdout",
     "output_type": "stream",
     "text": [
      "I'm sure that the shells are seashore shells.\n",
      "\n",
      "So if she sells seashells on the seashore,\n",
      "\n",
      "The shells that she sells are seashells I'm sure.\n",
      "\n",
      "She sells seashells on the seashore;\n",
      "\n"
     ]
    }
   ],
   "source": [
    "with open('/home/vitorbezerra/Documents/ExecicioSenai/python/she.txt') as f:\n",
    "    lines = f.readlines()\n",
    "    for l in reversed(lines):\n",
    "        print(l)"
   ]
  },
  {
   "cell_type": "markdown",
   "metadata": {},
   "source": [
    "**problem 19:** Write a program to print each line of a file in reverse order."
   ]
  },
  {
   "cell_type": "code",
   "execution_count": 23,
   "metadata": {},
   "outputs": [
    {
     "name": "stdout",
     "output_type": "stream",
     "text": [
      "I'm sure that the shells are seashore shells.\n",
      "\n",
      "So if she sells seashells on the seashore,\n",
      "\n",
      "The shells that she sells are seashells I'm sure.\n",
      "\n",
      "She sells seashells on the seashore;\n",
      "\n"
     ]
    }
   ],
   "source": [
    "with open('/home/vitorbezerra/Documents/ExecicioSenai/python/she.txt') as f:\n",
    "    lines = f.readlines()\n",
    "    for l in reversed(lines):\n",
    "        print(l)"
   ]
  },
  {
   "cell_type": "markdown",
   "metadata": {},
   "source": [
    "**problem 20:** Implement unix commands head and tail. The head and tail commands take a file as argument and prints its first and last 10 lines of the file respectively."
   ]
  },
  {
   "cell_type": "code",
   "execution_count": 34,
   "metadata": {},
   "outputs": [
    {
     "name": "stdout",
     "output_type": "stream",
     "text": [
      "She sells seashells on the seashore;\n",
      "\n",
      "The shells that she sells are seashells I'm sure.\n",
      "\n",
      "So if she sells seashells on the seashore,\n",
      "\n",
      "I'm sure that the shells are seashore shells.\n",
      "\n",
      "None\n",
      "I'm sure that the shells are seashore shells.\n",
      "\n",
      "So if she sells seashells on the seashore,\n",
      "\n",
      "The shells that she sells are seashells I'm sure.\n",
      "\n",
      "She sells seashells on the seashore;\n",
      "\n",
      "None\n"
     ]
    }
   ],
   "source": [
    "def head(file):\n",
    "    lines = file.readlines()\n",
    "    size = 0\n",
    "    for line in lines:\n",
    "        print(line)\n",
    "        size += 1\n",
    "        if size >= 10:\n",
    "            break\n",
    "    file.seek(0)\n",
    "\n",
    "def tails(file):\n",
    "    lines = file.readlines()\n",
    "    size = 0\n",
    "    for line in reversed(lines):\n",
    "        print(line)\n",
    "        size += 1\n",
    "        if size >= 10:\n",
    "            break\n",
    "    file.seek(0)\n",
    "    \n",
    "with open('/home/vitorbezerra/Documents/ExecicioSenai/python/she.txt') as f:\n",
    "    print(head(f))\n",
    "\n",
    "    print(tails(f))"
   ]
  },
  {
   "cell_type": "markdown",
   "metadata": {},
   "source": [
    "**problem 21:** Implement unix command grep. The grep command takes a string and a file as arguments and prints all lines in the file which contain the specified string."
   ]
  },
  {
   "cell_type": "code",
   "execution_count": 35,
   "metadata": {},
   "outputs": [
    {
     "name": "stdout",
     "output_type": "stream",
     "text": [
      "The shells that she sells are seashells I'm sure.\n",
      "\n",
      "I'm sure that the shells are seashore shells.\n",
      "\n"
     ]
    }
   ],
   "source": [
    "def grep(file, keyword):\n",
    "    lines = file.readlines()\n",
    "    for line in lines:\n",
    "        if line.find(keyword) != -1:\n",
    "            print(line)\n",
    "\n",
    "with open('/home/vitorbezerra/Documents/ExecicioSenai/python/she.txt') as f:            \n",
    "    grep(f,\"sure\")"
   ]
  },
  {
   "cell_type": "markdown",
   "metadata": {},
   "source": [
    "**problem 22:** Write a program wrap.py that takes filename and width as aruguments and wraps the lines longer than width."
   ]
  },
  {
   "cell_type": "code",
   "execution_count": 40,
   "metadata": {},
   "outputs": [
    {
     "name": "stdout",
     "output_type": "stream",
     "text": [
      "I'm sure that the shells are s\n",
      "eashore shells.\n",
      "\n",
      "So if she sells seashells on t\n",
      "he seashore,\n",
      "\n",
      "The shells that she sells are \n",
      "seashells I'm sure.\n",
      "\n",
      "She sells seashells on the sea\n",
      "shore;\n",
      "\n"
     ]
    }
   ],
   "source": [
    "def wrap(file, size):\n",
    "    lines = file.readlines()\n",
    "    for line in reversed(lines):\n",
    "        new_lines = [line[i:i+size] for i in range(0,len(line),size)]\n",
    "        for n in new_lines:\n",
    "            print(n)\n",
    "        \n",
    "with open('/home/vitorbezerra/Documents/ExecicioSenai/python/she.txt') as f:            \n",
    "    wrap(f,30)"
   ]
  },
  {
   "cell_type": "markdown",
   "metadata": {},
   "source": [
    "**problem 23:** The above wrap program is not so nice because it is breaking the line at middle of any word. Can you write a new program wordwrap.py that works like wrap.py, but breaks the line only at the word boundaries?"
   ]
  },
  {
   "cell_type": "code",
   "execution_count": 61,
   "metadata": {},
   "outputs": [
    {
     "ename": "IndentationError",
     "evalue": "expected an indented block (<ipython-input-61-6e1b97e714b3>, line 8)",
     "output_type": "error",
     "traceback": [
      "\u001b[0;36m  File \u001b[0;32m\"<ipython-input-61-6e1b97e714b3>\"\u001b[0;36m, line \u001b[0;32m8\u001b[0m\n\u001b[0;31m    print(splited.separator(\" \"))\u001b[0m\n\u001b[0m        ^\u001b[0m\n\u001b[0;31mIndentationError\u001b[0m\u001b[0;31m:\u001b[0m expected an indented block\n"
     ]
    }
   ],
   "source": [
    "def wrap2(file, size):\n",
    "    lines = file.readlines()\n",
    "    for line in reversed(lines):\n",
    "        splited = line.split(\" \")\n",
    "        sub_string = []\n",
    "        while my_sum(splited) >= 30:\n",
    "            \n",
    "        print(splited.separator(\" \"))\n",
    "        \n",
    "with open('/home/vitorbezerra/Documents/ExecicioSenai/python/she.txt') as f:            \n",
    "    wrap(f,30)\n",
    "    \n",
    "# TODO"
   ]
  },
  {
   "cell_type": "markdown",
   "metadata": {},
   "source": [
    "**problem 24:** Write a program center_align.py to center align all lines in the given file."
   ]
  },
  {
   "cell_type": "code",
   "execution_count": 62,
   "metadata": {},
   "outputs": [],
   "source": [
    "# TODO"
   ]
  },
  {
   "cell_type": "markdown",
   "metadata": {},
   "source": [
    "## List Comprehensions\n",
    "\n",
    "**problem 25:**  Provide an implementation for zip function using list comprehensions."
   ]
  },
  {
   "cell_type": "code",
   "execution_count": 42,
   "metadata": {},
   "outputs": [
    {
     "name": "stdout",
     "output_type": "stream",
     "text": [
      "[(1, 'a'), (2, 'b'), (3, 'c')]\n"
     ]
    }
   ],
   "source": [
    "def my_zip(l1,l2):\n",
    "    return [(i,j) for i,j in zip(l1,l2)]\n",
    "\n",
    "print(my_zip([1, 2, 3], [\"a\", \"b\", \"c\"]))"
   ]
  },
  {
   "cell_type": "markdown",
   "metadata": {},
   "source": [
    "**problem 26:** Python provides a built-in function map that applies a function to each element of a list. Provide an implementation for map using list comprehensions."
   ]
  },
  {
   "cell_type": "code",
   "execution_count": 43,
   "metadata": {},
   "outputs": [
    {
     "name": "stdout",
     "output_type": "stream",
     "text": [
      "[0, 1, 4, 9, 16]\n"
     ]
    }
   ],
   "source": [
    "def square(x): return x * x\n",
    "\n",
    "def my_map(func, l):\n",
    "    return [func(i) for i in l]\n",
    "\n",
    "print(my_map(square, range(5)))"
   ]
  },
  {
   "cell_type": "markdown",
   "metadata": {},
   "source": [
    "**problem 27:** Python provides a built-in function filter(f, a) that returns items of the list a for which f(item) returns true. Provide an implementation for filter using list comprehensions."
   ]
  },
  {
   "cell_type": "code",
   "execution_count": 46,
   "metadata": {},
   "outputs": [
    {
     "name": "stdout",
     "output_type": "stream",
     "text": [
      "[0, 2, 4, 6, 8]\n"
     ]
    }
   ],
   "source": [
    "def even(x): return x %2 == 0\n",
    "\n",
    "def my_filter(f,a):\n",
    "    return [i for i in a if f(i)]\n",
    "\n",
    "print(my_filter(even, range(10)))"
   ]
  },
  {
   "cell_type": "markdown",
   "metadata": {},
   "source": [
    "**problem 28:** Write a function triplets that takes a number n as argument and returns a list of triplets such that sum of first two elements of the triplet equals the third element using numbers below n. Please note that (a, b, c) and (b, a, c) represent same triplet."
   ]
  },
  {
   "cell_type": "code",
   "execution_count": 60,
   "metadata": {},
   "outputs": [
    {
     "name": "stdout",
     "output_type": "stream",
     "text": [
      "[(1, 1, 2), (1, 2, 3), (1, 3, 4), (2, 1, 3), (2, 2, 4), (3, 1, 4)]\n"
     ]
    }
   ],
   "source": [
    "def check_triplets(x):\n",
    "    if x[0] + x[1] == x[2]:\n",
    "        return True\n",
    "    else:\n",
    "        return False\n",
    "def triplets(n):\n",
    "    first_triplets = [(i,j,k) for i in range(1,n)\\\n",
    "                      for j in range(1,n) for k in range(1,n) if check_triplets((i,j,k))]\n",
    "    return first_triplets\n",
    "\n",
    "print(triplets(5))\n",
    "# TODO"
   ]
  },
  {
   "cell_type": "markdown",
   "metadata": {},
   "source": [
    "**problem 29:** Write a function enumerate that takes a list and returns a list of tuples containing (index,item) for each item in the list."
   ]
  },
  {
   "cell_type": "code",
   "execution_count": 64,
   "metadata": {},
   "outputs": [
    {
     "name": "stdout",
     "output_type": "stream",
     "text": [
      "[(0, 'a'), (1, 'b'), (2, 'c')]\n"
     ]
    }
   ],
   "source": [
    "def my_enumerate(l):\n",
    "    return [(i, j) for i,j in zip(range(len(l)), l)]\n",
    "print(my_enumerate([\"a\", \"b\", \"c\"]))"
   ]
  },
  {
   "cell_type": "markdown",
   "metadata": {},
   "source": [
    "**problem 30:** Write a function array to create an 2-dimensional array. The function should take both dimensions as arguments. Value of each element can be initialized to None:"
   ]
  },
  {
   "cell_type": "code",
   "execution_count": 66,
   "metadata": {},
   "outputs": [
    {
     "name": "stdout",
     "output_type": "stream",
     "text": [
      "[[None, None, None], [None, None, None]]\n",
      "[[5, None, None], [None, None, None]]\n"
     ]
    }
   ],
   "source": [
    "def my_array(n, m):\n",
    "    return [[None for j in range(m)] for i in range(n)]\n",
    "a = my_array(2, 3)\n",
    "print(a)\n",
    "a[0][0] = 5\n",
    "print(a)"
   ]
  },
  {
   "cell_type": "code",
   "execution_count": null,
   "metadata": {},
   "outputs": [],
   "source": []
  }
 ],
 "metadata": {
  "kernelspec": {
   "display_name": "Python [conda env:amb1] *",
   "language": "python",
   "name": "conda-env-amb1-py"
  },
  "language_info": {
   "codemirror_mode": {
    "name": "ipython",
    "version": 3
   },
   "file_extension": ".py",
   "mimetype": "text/x-python",
   "name": "python",
   "nbconvert_exporter": "python",
   "pygments_lexer": "ipython3",
   "version": "3.7.4"
  }
 },
 "nbformat": 4,
 "nbformat_minor": 2
}
