{
 "cells": [
  {
   "cell_type": "markdown",
   "metadata": {},
   "source": [
    "Crie uma classe python que controla clientes de um banco que podem ser pessoa física (CPF) ou jurídica (CNPJ), utilizando herança. \n",
    "Crie outra classe em Python que controla contas bancarias, que pode ser corrente ou poupança, o estado da conta é o saldo, e os métodos são saque ou depósito um atributo da conta bancária é a referencia a um objeto cliente."
   ]
  },
  {
   "cell_type": "code",
   "execution_count": 1,
   "metadata": {},
   "outputs": [
    {
     "name": "stdout",
     "output_type": "stream",
     "text": [
      "Pessoa Fisica:\n",
      "Joao Batista\n",
      "10\n",
      "011.054.054-05\n",
      "Pessoa Juridica:\n",
      "Padaria do Joao\n",
      "1000000000000\n",
      "54545454554/2454-45\n",
      "Conta Poupanca:\n",
      "10\n",
      "Operacao Negada\n",
      "Conta Corrente:\n",
      "1000000000000\n",
      "1000000000009\n"
     ]
    }
   ],
   "source": [
    "class Cliente():\n",
    "    def __init__(self):\n",
    "        self.__nome = \"\"\n",
    "        self.__saldo = 0\n",
    "    def get_nome(self):\n",
    "        return self.__nome\n",
    "    def get_saldo(self):\n",
    "        return self.__saldo\n",
    "    def set_nome(self, nome):\n",
    "        self.__nome = nome\n",
    "    def set_saldo(self, saldo):\n",
    "        self.__saldo = saldo\n",
    "\n",
    "class PessoaFisica(Cliente):\n",
    "    def __init__(self, cpf):\n",
    "        self.__cpf = cpf\n",
    "    def get_cpf(self):\n",
    "        return self.__cpf\n",
    "\n",
    "class PessoaJuridica(Cliente):\n",
    "    def __init__(self, cnpj):\n",
    "        self.__cnpj = cnpj\n",
    "    def get_cnpj(self):\n",
    "        return self.__cnpj\n",
    "\n",
    "class Conta:\n",
    "    def __init__(self, cliente):\n",
    "        self.__cliente = cliente\n",
    "    def saque(self, valor):\n",
    "        self.__cliente.set_saldo(self.__cliente.get_saldo() - valor)\n",
    "    def deposito(self,valor):\n",
    "        self.__cliente.set_saldo(self.__cliente.get_saldo() + valor)\n",
    "    def get_saldo(self):\n",
    "        return self.__cliente.get_saldo()\n",
    "    def set_saldo(self, valor):\n",
    "        return self.__cliente.set_saldo(valor)\n",
    "\n",
    "class ContaCorrente(Conta):\n",
    "    def __init__(self, cliente):\n",
    "        super().__init__(cliente)\n",
    "    # sobrecarga\n",
    "    def deposito(self, valor, taxasaque):\n",
    "        self.set_saldo(self.get_saldo() + valor - taxasaque)\n",
    "\n",
    "class ContaPoupanca(Conta):\n",
    "    def __init__(self, cliente):\n",
    "        super().__init__(cliente)\n",
    "        self.__max_saques = 1\n",
    "    # sobrescrita\n",
    "    def saque(self, valor):\n",
    "        if self.__max_saques > 0:\n",
    "            self.set_saldo(self.get_saldo() - valor)\n",
    "            self.__max_saques -= 1\n",
    "        else:\n",
    "            print(\"Operacao Negada\")\n",
    "\n",
    "print(\"Pessoa Fisica:\")\n",
    "\n",
    "pessoa = PessoaFisica(\"011.054.054-05\")\n",
    "pessoa.set_nome(\"Joao Batista\")\n",
    "pessoa.set_saldo(10)\n",
    "print(pessoa.get_nome())\n",
    "print(pessoa.get_saldo())\n",
    "print(pessoa.get_cpf())\n",
    "\n",
    "print(\"Pessoa Juridica:\")\n",
    "\n",
    "empresa = PessoaJuridica(\"54545454554/2454-45\")\n",
    "empresa.set_nome(\"Padaria do Joao\")\n",
    "empresa.set_saldo(1000000000000)\n",
    "print(empresa.get_nome())\n",
    "print(empresa.get_saldo())\n",
    "print(empresa.get_cnpj())\n",
    "\n",
    "print(\"Conta Poupanca:\")\n",
    "cpoup = ContaPoupanca(pessoa)\n",
    "print(cpoup.get_saldo())\n",
    "cpoup.saque(1)\n",
    "cpoup.saque(1)\n",
    "\n",
    "print(\"Conta Corrente:\")\n",
    "ccorr = ContaCorrente(empresa)\n",
    "print(ccorr.get_saldo())\n",
    "ccorr.deposito(10, 1)\n",
    "print(ccorr.get_saldo())"
   ]
  },
  {
   "cell_type": "markdown",
   "metadata": {},
   "source": [
    "## Exercícios Orientação a Objeto\n",
    "\n",
    "### Modele uma classe que realiza as seguintes operações em um arquivo texto\n",
    "\n",
    "* Represente um texto como uma lista de Strings\n",
    "* Retorne individualmente cada palavra do texto\n",
    "* Conte a quantidade de ocorrências de cada palavra do texto\n",
    "* Retorne as 10 palavras mais frequentes\n",
    "* Retorne a média e desvio padrão da quantidade de ocorrências\n",
    "* Cadastre StopWords (A classe deve possuir um atributo com uma lista de StopWords)\n",
    "* Retorne um novo arquivo eliminando todas as StopWords do texto\n",
    "* Inclua um método que retorne a distância entre duas palavras\n",
    "\n",
    "## Observações:\n",
    "\n",
    "* StopWords : são palavras que são consideradas irrelevantes para o conjunto de resultados a ser exibido em uma busca realizada em uma search engine. Exemplos: as, e, os, de, para, com, sem, foi.\n",
    "\n",
    "* Exemplo de texto que pode ser usado como entrada: https://ocw.mit.edu/ans7870/6/6.006/s08/lecturenotes/files/t8.shakespeare.txt\n",
    "\n",
    "* Você pode criar um método próprio para medir a distância entre duas palavras, ou pode se basear em métodos existentes, como por exemplo, alguns citados aqui: https://itnext.io/string-similarity-the-basic-know-your-algorithms-guide-3de3d7346227"
   ]
  },
  {
   "cell_type": "code",
   "execution_count": 2,
   "metadata": {},
   "outputs": [
    {
     "name": "stdout",
     "output_type": "stream",
     "text": [
      "Collecting textdistance\n",
      "  Downloading https://files.pythonhosted.org/packages/3f/18/31397b687f50ffae65469175f07faa68f288e27fcd8716276004c42e5637/textdistance-4.1.5-py3-none-any.whl\n",
      "Installing collected packages: textdistance\n",
      "Successfully installed textdistance-4.1.5\n"
     ]
    }
   ],
   "source": [
    "!pip install textdistance"
   ]
  },
  {
   "cell_type": "code",
   "execution_count": 15,
   "metadata": {},
   "outputs": [
    {
     "name": "stdout",
     "output_type": "stream",
     "text": [
      "/home/vitorbezerra/Documents/pizzadotieu/she.txt\n",
      "are\n",
      "the\n",
      "are\n",
      "the\n",
      "are\n",
      "the\n",
      "are\n",
      "the\n"
     ]
    }
   ],
   "source": [
    "import statistics \n",
    "import textdistance\n",
    "\n",
    "class TextAnalizer:\n",
    "    def __init__(self, file_path=\"\"):\n",
    "        self._file_path = file_path\n",
    "        self._StopWords = []\n",
    "        print(file_path)\n",
    "    # Represente um texto como uma lista de Strings\n",
    "    def text(self):\n",
    "        with open(self._file_path, \"r\") as f:\n",
    "            return f.readlines()\n",
    "    # Retorne individualmente cada palavra do texto\n",
    "    def words(self):\n",
    "        lines = self.text()\n",
    "        return [word for line in lines for word in line.replace(\"\\n\",\"\").split(\" \")]\n",
    "    # Conte a quantidade de ocorrências de cada palavra do texto\n",
    "    def word_cont(self):\n",
    "        words = self.words()\n",
    "        hist = {}\n",
    "        for word in words:\n",
    "            if word in hist:\n",
    "                hist[word] += 1\n",
    "            else:\n",
    "                hist[word] = 1\n",
    "        return hist\n",
    "    # Retorne as 10 palavras mais frequentes\n",
    "    def top10_words(self):\n",
    "        hist = self.word_cont()\n",
    "        sorted_hist = sorted(hist.items(), key=lambda kv: kv[1], reverse=True)\n",
    "        return sorted_hist[:10]\n",
    "    # Retorne a média e desvio padrão da quantidade de ocorrências\n",
    "    def mean_stdev(self):\n",
    "        hist = self.word_cont()\n",
    "        cont = [value for key,value in hist.items()]\n",
    "        return [statistics.mean(cont), statistics.stdev(cont)]\n",
    "    # Cadastre StopWords (A classe deve possuir um atributo com uma lista de StopWords)\n",
    "    def set_StopWords(self, words):\n",
    "        self._StopWords = words\n",
    "    # Retorne um novo arquivo eliminando todas as StopWords do texto\n",
    "    def removeStopWords(self, path):\n",
    "        with open(path, \"w\") as f:\n",
    "            for line in self.text():\n",
    "                l = line\n",
    "                for word in self._StopWords:\n",
    "                    print(word)\n",
    "                    l = l.replace(word,\"\")\n",
    "                f.write(l)\n",
    "    # Inclua um método que retorne a distância entre duas palavras\n",
    "    def dist_words(self, a,b):\n",
    "        return textdistance.hamming(a, a)\n",
    "\n",
    "textanalizer = TextAnalizer(\"/home/vitorbezerra/Documents/pizzadotieu/she.txt\")\n",
    "#print(textanalizer.text())\n",
    "#print(textanalizer.words())\n",
    "#print(textanalizer.word_cont())\n",
    "#print(textanalizer.top10_words())\n",
    "#print(textanalizer.mean_stdev())\n",
    "textanalizer.set_StopWords(['are', 'the'])\n",
    "textanalizer.removeStopWords('stop')"
   ]
  },
  {
   "cell_type": "code",
   "execution_count": 16,
   "metadata": {},
   "outputs": [
    {
     "name": "stdout",
     "output_type": "stream",
     "text": [
      "She sells seashells on  seashore;\r\n",
      "The shells that she sells  seashells I'm sure.\r\n",
      "So if she sells seashells on  seashore,\r\n",
      "I'm sure that  shells  seashore shells.\r\n"
     ]
    }
   ],
   "source": [
    "!cat stop\n"
   ]
  },
  {
   "cell_type": "code",
   "execution_count": null,
   "metadata": {},
   "outputs": [],
   "source": []
  }
 ],
 "metadata": {
  "kernelspec": {
   "display_name": "Python [conda env:amb1] *",
   "language": "python",
   "name": "conda-env-amb1-py"
  },
  "language_info": {
   "codemirror_mode": {
    "name": "ipython",
    "version": 3
   },
   "file_extension": ".py",
   "mimetype": "text/x-python",
   "name": "python",
   "nbconvert_exporter": "python",
   "pygments_lexer": "ipython3",
   "version": "3.7.4"
  }
 },
 "nbformat": 4,
 "nbformat_minor": 2
}
