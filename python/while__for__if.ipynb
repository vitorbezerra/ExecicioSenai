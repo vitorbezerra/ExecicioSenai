{
 "cells": [
  {
   "cell_type": "markdown",
   "metadata": {},
   "source": [
    "Write a function that returns the maximum of two numbers."
   ]
  },
  {
   "cell_type": "code",
   "execution_count": 1,
   "metadata": {},
   "outputs": [
    {
     "name": "stdout",
     "output_type": "stream",
     "text": [
      "10\n",
      "50\n"
     ]
    }
   ],
   "source": [
    "def m_a_x(a,b):\n",
    "    if a > b:\n",
    "        return a\n",
    "    else:\n",
    "        return b\n",
    "    \n",
    "print(m_a_x(10,5))\n",
    "print(m_a_x(20,50))"
   ]
  },
  {
   "cell_type": "markdown",
   "metadata": {},
   "source": [
    "Write a function called fizz_buzz that takes a number.\n",
    "* If the number is divisible by 3, it should return “Fizz”.\n",
    "* If it is divisible by 5, it should return “Buzz”.\n",
    "* If it is divisible by both 3 and 5, it should return “FizzBuzz”.\n",
    "* Otherwise, it should return the same number."
   ]
  },
  {
   "cell_type": "code",
   "execution_count": 3,
   "metadata": {},
   "outputs": [
    {
     "name": "stdout",
     "output_type": "stream",
     "text": [
      "Fizz\n",
      "Buzz\n",
      "FizzBuzz\n",
      "11\n"
     ]
    }
   ],
   "source": [
    "def fizz_buzz(number):\n",
    "    if (number % 3 == 0) and (number % 5 == 0):\n",
    "        return \"FizzBuzz\"\n",
    "    elif number % 3 == 0:\n",
    "        return \"Fizz\"\n",
    "    elif number % 5 == 0:\n",
    "        return \"Buzz\"\n",
    "    else:\n",
    "        return number\n",
    "    \n",
    "print(fizz_buzz(3))\n",
    "print(fizz_buzz(5))\n",
    "print(fizz_buzz(30))\n",
    "print(fizz_buzz(11))"
   ]
  },
  {
   "cell_type": "markdown",
   "metadata": {},
   "source": [
    "Write a function for checking the speed of drivers. This function should have one parameter: speed.\n",
    "* If speed is less than 70, it should print “Ok”.\n",
    "* Otherwise, for every 5km above the speed limit (70), it should give the driver one demerit point and print the total number of demerit points. For example, if the speed is 80, it should print: “Points: 2”.\n",
    "* |If the driver gets more than 12 points, the function should print: “License suspended”"
   ]
  },
  {
   "cell_type": "code",
   "execution_count": 7,
   "metadata": {},
   "outputs": [
    {
     "name": "stdout",
     "output_type": "stream",
     "text": [
      "Ok\n",
      "Points: 2\n",
      "Points: 4\n",
      "License suspended\n"
     ]
    }
   ],
   "source": [
    "def speed_radar(speed):\n",
    "    excess = speed - 70\n",
    "    points = 0\n",
    "    while excess > 0:\n",
    "        points += 1\n",
    "        excess = excess - 5\n",
    "    if points == 0:\n",
    "        return \"Ok\"\n",
    "    elif points <= 12:\n",
    "        return \"Points: {}\".format(points)\n",
    "    else:\n",
    "        return \"License suspended\"\n",
    "    \n",
    "print(speed_radar(70))\n",
    "print(speed_radar(80))\n",
    "print(speed_radar(90))\n",
    "print(speed_radar(300))"
   ]
  },
  {
   "cell_type": "markdown",
   "metadata": {},
   "source": [
    "Write a function called showNumbers that takes a parameter called limit. It should print all the numbers between 0 and limit with a label to identify the even and odd numbers. For example, if the limit is 3, it should print:\n",
    "\n",
    "* 0 EVEN\n",
    "* 1 ODD\n",
    "* 2 EVEN\n",
    "* 3 ODD"
   ]
  },
  {
   "cell_type": "code",
   "execution_count": 9,
   "metadata": {},
   "outputs": [
    {
     "name": "stdout",
     "output_type": "stream",
     "text": [
      "0 EVEN\n",
      "1 ODD\n",
      "2 EVEN\n",
      "3 ODD\n"
     ]
    }
   ],
   "source": [
    "def showNumbers(limit):\n",
    "    l = range(limit+1)\n",
    "    for i in l:\n",
    "        if i % 2 == 0:\n",
    "            print(\"{} EVEN\".format(i))\n",
    "        else:\n",
    "            print(\"{} ODD\".format(i))\n",
    "            \n",
    "showNumbers(3)"
   ]
  },
  {
   "cell_type": "markdown",
   "metadata": {},
   "source": [
    "Write a function that returns the sum of multiples of 3 and 5 between 0 and limit (parameter). For example, if limit is 20, it should return the sum of 3, 5, 6, 9, 10, 12, 15, 18, 20."
   ]
  },
  {
   "cell_type": "code",
   "execution_count": 14,
   "metadata": {},
   "outputs": [
    {
     "name": "stdout",
     "output_type": "stream",
     "text": [
      "98\n",
      "225\n"
     ]
    }
   ],
   "source": [
    "def multiples(limit):\n",
    "    l = []\n",
    "    for i in range(1, limit+1):\n",
    "        if (i % 3 == 0) or (i % 5 == 0):\n",
    "            l.append(i)\n",
    "    return sum(l)\n",
    "\n",
    "print(multiples(20))\n",
    "print(multiples(30))"
   ]
  },
  {
   "cell_type": "markdown",
   "metadata": {},
   "source": [
    "Write a function called show_stars(rows). If rows is 5, it should print the following:"
   ]
  },
  {
   "cell_type": "code",
   "execution_count": 16,
   "metadata": {},
   "outputs": [
    {
     "name": "stdout",
     "output_type": "stream",
     "text": [
      "*\n",
      "**\n",
      "***\n",
      "****\n",
      "*****\n"
     ]
    }
   ],
   "source": [
    "def show_stars(rows):\n",
    "    stars = \"*\"\n",
    "    for i in range(rows):\n",
    "        print(stars)\n",
    "        stars += \"*\"\n",
    "        \n",
    "show_stars(5)"
   ]
  },
  {
   "cell_type": "markdown",
   "metadata": {},
   "source": [
    "Write a function that prints all the prime numbers between 0 and limit where limit is a parameter.\n"
   ]
  },
  {
   "cell_type": "code",
   "execution_count": 28,
   "metadata": {},
   "outputs": [
    {
     "name": "stdout",
     "output_type": "stream",
     "text": [
      "[1]\n",
      "[1, 2, 3, 5]\n",
      "[1, 2, 3, 5, 7]\n",
      "[1, 2, 3, 5, 7, 11, 13, 17, 19, 23, 29, 31, 37, 41, 43, 47]\n"
     ]
    }
   ],
   "source": [
    "def primes(limit):\n",
    "    pr_numbrs = []\n",
    "    for i in range(1, limit+1):    \n",
    "        if (i <= 3) : \n",
    "            pr_numbrs.append(i)\n",
    "        else:\n",
    "            is_prime = True\n",
    "            for j in range(2, i): \n",
    "                if (i % j) == 0:\n",
    "                   is_prime = False\n",
    "                   break\n",
    "                else: \n",
    "                   is_prime = True\n",
    "            if is_prime:\n",
    "                pr_numbrs.append(i)\n",
    "    return pr_numbrs\n",
    "\n",
    "print(primes(1))\n",
    "print(primes(5))\n",
    "print(primes(10))\n",
    "print(primes(50))"
   ]
  },
  {
   "cell_type": "code",
   "execution_count": null,
   "metadata": {},
   "outputs": [],
   "source": []
  }
 ],
 "metadata": {
  "kernelspec": {
   "display_name": "Python [conda env:amb1] *",
   "language": "python",
   "name": "conda-env-amb1-py"
  },
  "language_info": {
   "codemirror_mode": {
    "name": "ipython",
    "version": 3
   },
   "file_extension": ".py",
   "mimetype": "text/x-python",
   "name": "python",
   "nbconvert_exporter": "python",
   "pygments_lexer": "ipython3",
   "version": "3.7.4"
  }
 },
 "nbformat": 4,
 "nbformat_minor": 2
}
