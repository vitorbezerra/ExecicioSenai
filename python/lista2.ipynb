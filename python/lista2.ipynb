{
 "cells": [
  {
   "cell_type": "markdown",
   "metadata": {},
   "source": [
    "## 1 Escreva um programa que, dados 2 números diferentes (a e b), encontre o menor deles."
   ]
  },
  {
   "cell_type": "code",
   "execution_count": 1,
   "metadata": {},
   "outputs": [
    {
     "name": "stdout",
     "output_type": "stream",
     "text": [
      "2\n",
      "10\n",
      "10000000000000\n"
     ]
    }
   ],
   "source": [
    "def findsmalest(a,b):\n",
    "    if a > b:\n",
    "        return a\n",
    "    else:\n",
    "        return b\n",
    "\n",
    "print(findsmalest(1,2))\n",
    "print(findsmalest(10,5))\n",
    "print(findsmalest(10000000000000,20))"
   ]
  },
  {
   "cell_type": "markdown",
   "metadata": {},
   "source": [
    "## 2 Para doar sangue é necessário:\n",
    "\n",
    "* Ter entre 16 e 69 anos.\n",
    "* Pesar mais de 50 kg.\n",
    "* Estar descansado (ter dormido pelo menos 6 horas nas últimas 24 horas).\n",
    "\n",
    "Faça um programa que pergunte a idade, o peso e quanto dormiu nas últimas 24 h para uma pessoa e diga se ela pode doar sangue ou não."
   ]
  },
  {
   "cell_type": "code",
   "execution_count": 2,
   "metadata": {},
   "outputs": [
    {
     "name": "stdout",
     "output_type": "stream",
     "text": [
      "Qual a sua idade? 17\n",
      "Qual seu peso? 58\n",
      "Quantas horas voce dormiu nas ultimas 24 horas? 8\n",
      "Pode doar sangue\n"
     ]
    }
   ],
   "source": [
    "age = int(input(\"Qual a sua idade? \"))\n",
    "weight = int(input(\"Qual seu peso? \"))\n",
    "sleep_time = int(input(\"Quantas horas voce dormiu nas ultimas 24 horas? \"))\n",
    "\n",
    "if (age > 16 and age < 69) and (weight > 50) and (sleep_time > 6):\n",
    "    print(\"Pode doar sangue\")\n",
    "else:\n",
    "    print(\"Nao pode doar sangue\")"
   ]
  },
  {
   "cell_type": "markdown",
   "metadata": {},
   "source": [
    "## 3 Considere uma equação do segundo grau f(x)=a\\*x^2+b\\*x+c. A partir dos coeficientes, determine se a equação possui duas raízes reais, uma, ou se não possui."
   ]
  },
  {
   "cell_type": "code",
   "execution_count": 16,
   "metadata": {},
   "outputs": [
    {
     "name": "stdout",
     "output_type": "stream",
     "text": [
      "Possui 2 raizes reais\n"
     ]
    }
   ],
   "source": [
    "import cmath\n",
    "\n",
    "\n",
    "# a = float(input('A: '))\n",
    "# b = float(input('B: '))\n",
    "# c = float(input('C: '))\n",
    "\n",
    "a = 1\n",
    "b = 5\n",
    "c = 6\n",
    "\n",
    "d = (b**2) - (4*a*c)\n",
    "\n",
    "# find two solutions\n",
    "flag_solution1 = True\n",
    "flag_solution2 = True\n",
    "try:\n",
    "    sol1 = (-b-cmath.sqrt(d))/(2*a)\n",
    "except Exception as e:\n",
    "    flag_solution1 = False\n",
    "try:\n",
    "    sol2 = (-b+cmath.sqrt(d))/(2*a)\n",
    "except Exception as e:\n",
    "    flag_solution2 = False\n",
    "\n",
    "if flag_solution1 and flag_solution2:\n",
    "    print(\"Possui 2 raizes reais\")\n",
    "elif flag_solution1 or flag_solution2:\n",
    "    print(\"Possui uma raiz real\")\n",
    "else:\n",
    "    print(\"Nao possui raizes reais\")"
   ]
  },
  {
   "cell_type": "markdown",
   "metadata": {},
   "source": [
    "## 4 Leia dois números e efetue a adição. Caso o valor somado seja maior que 20, este deverá ser apresentado somando-se a ele mais 8; caso o valor somado seja menor ou igual a 20, este deverá ser apresentado subtraindo-se 5."
   ]
  },
  {
   "cell_type": "code",
   "execution_count": 17,
   "metadata": {},
   "outputs": [
    {
     "name": "stdout",
     "output_type": "stream",
     "text": [
      "A: 2\n",
      "B: 2\n",
      "-1\n"
     ]
    }
   ],
   "source": [
    "a = int(input(\"A: \"))\n",
    "b = int(input(\"B: \"))\n",
    "\n",
    "s = a + b\n",
    "\n",
    "if s > 20:\n",
    "    print(\"{}\".format(s+8))\n",
    "else:\n",
    "    print(\"{}\".format(s-5))"
   ]
  },
  {
   "cell_type": "markdown",
   "metadata": {},
   "source": [
    "## 5 Leia um número e imprima a raiz quadrada do número caso ele seja positivo ou igual a zero e o quadrado do número caso ele seja negativo."
   ]
  },
  {
   "cell_type": "code",
   "execution_count": 21,
   "metadata": {},
   "outputs": [
    {
     "name": "stdout",
     "output_type": "stream",
     "text": [
      "Numero: -4\n",
      "16\n"
     ]
    }
   ],
   "source": [
    "import cmath\n",
    "\n",
    "a = int(input(\"Numero: \"))\n",
    "if a >= 0:\n",
    "        print(\"{}\".format(cmath.sqrt(a)))\n",
    "else:\n",
    "    print(\"{}\".format(a**2))"
   ]
  },
  {
   "cell_type": "markdown",
   "metadata": {},
   "source": [
    "## 6 Leia um número inteiro entre 1 e 12 e escreva o mês correspondente. Caso o usuário digite um número fora desse intervalo, deverá aparecer uma mensagem informando que não existe mês com este número."
   ]
  },
  {
   "cell_type": "code",
   "execution_count": 25,
   "metadata": {},
   "outputs": [
    {
     "name": "stdout",
     "output_type": "stream",
     "text": [
      "Digite o mes: 12\n",
      "Mes: Dezembro\n"
     ]
    }
   ],
   "source": [
    "months = {1: \"Janeiro\", 2: \"Fevereiro\", 3: \"Marco\", 4: \"Abril\", 5: \"Maio\", 6: \n",
    "          \"Junho\", 7: \"Julho\", 8: \"Agosto\", 9: \"Setembro\", 10: \"Outubro\", 11: \"Novembro\", 12: \"Dezembro\"}\n",
    "\n",
    "m = int(input(\"Digite o mes: \"))\n",
    "if m > 0 and m <=12:\n",
    "    print(\"Mes: {}\".format(months[m]))\n",
    "else:\n",
    "    print(\"Erro: digite um mes valido\")"
   ]
  },
  {
   "cell_type": "code",
   "execution_count": null,
   "metadata": {},
   "outputs": [],
   "source": []
  }
 ],
 "metadata": {
  "kernelspec": {
   "display_name": "Python [conda env:amb1] *",
   "language": "python",
   "name": "conda-env-amb1-py"
  },
  "language_info": {
   "codemirror_mode": {
    "name": "ipython",
    "version": 3
   },
   "file_extension": ".py",
   "mimetype": "text/x-python",
   "name": "python",
   "nbconvert_exporter": "python",
   "pygments_lexer": "ipython3",
   "version": "3.7.4"
  }
 },
 "nbformat": 4,
 "nbformat_minor": 2
}
